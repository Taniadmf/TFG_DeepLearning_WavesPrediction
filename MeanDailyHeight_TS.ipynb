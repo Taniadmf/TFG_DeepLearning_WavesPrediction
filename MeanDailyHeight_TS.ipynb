{
  "nbformat": 4,
  "nbformat_minor": 0,
  "metadata": {
    "colab": {
      "provenance": []
    },
    "kernelspec": {
      "name": "python3",
      "display_name": "Python 3"
    },
    "language_info": {
      "name": "python"
    }
  },
  "cells": [
    {
      "cell_type": "markdown",
      "source": [
        "# Mean Daily Height"
      ],
      "metadata": {
        "id": "wG2uNcP5r6S8"
      }
    },
    {
      "cell_type": "code",
      "execution_count": null,
      "metadata": {
        "colab": {
          "base_uri": "https://localhost:8080/",
          "height": 197
        },
        "id": "T-v21UW3kaoc",
        "outputId": "60d4053b-f849-47e2-e2b5-1ffd9a567165"
      },
      "outputs": [
        {
          "output_type": "stream",
          "name": "stdout",
          "text": [
            "Requirement already satisfied: pandas in /usr/local/lib/python3.11/dist-packages (2.2.2)\n",
            "Requirement already satisfied: numpy>=1.23.2 in /usr/local/lib/python3.11/dist-packages (from pandas) (1.26.4)\n",
            "Requirement already satisfied: python-dateutil>=2.8.2 in /usr/local/lib/python3.11/dist-packages (from pandas) (2.8.2)\n",
            "Requirement already satisfied: pytz>=2020.1 in /usr/local/lib/python3.11/dist-packages (from pandas) (2025.1)\n",
            "Requirement already satisfied: tzdata>=2022.7 in /usr/local/lib/python3.11/dist-packages (from pandas) (2025.1)\n",
            "Requirement already satisfied: six>=1.5 in /usr/local/lib/python3.11/dist-packages (from python-dateutil>=2.8.2->pandas) (1.17.0)\n"
          ]
        },
        {
          "output_type": "display_data",
          "data": {
            "text/plain": [
              "<IPython.core.display.HTML object>"
            ],
            "text/html": [
              "\n",
              "     <input type=\"file\" id=\"files-28851716-ffc5-49f3-9ccf-7df8b08997b8\" name=\"files[]\" multiple disabled\n",
              "        style=\"border:none\" />\n",
              "     <output id=\"result-28851716-ffc5-49f3-9ccf-7df8b08997b8\">\n",
              "      Upload widget is only available when the cell has been executed in the\n",
              "      current browser session. Please rerun this cell to enable.\n",
              "      </output>\n",
              "      <script>// Copyright 2017 Google LLC\n",
              "//\n",
              "// Licensed under the Apache License, Version 2.0 (the \"License\");\n",
              "// you may not use this file except in compliance with the License.\n",
              "// You may obtain a copy of the License at\n",
              "//\n",
              "//      http://www.apache.org/licenses/LICENSE-2.0\n",
              "//\n",
              "// Unless required by applicable law or agreed to in writing, software\n",
              "// distributed under the License is distributed on an \"AS IS\" BASIS,\n",
              "// WITHOUT WARRANTIES OR CONDITIONS OF ANY KIND, either express or implied.\n",
              "// See the License for the specific language governing permissions and\n",
              "// limitations under the License.\n",
              "\n",
              "/**\n",
              " * @fileoverview Helpers for google.colab Python module.\n",
              " */\n",
              "(function(scope) {\n",
              "function span(text, styleAttributes = {}) {\n",
              "  const element = document.createElement('span');\n",
              "  element.textContent = text;\n",
              "  for (const key of Object.keys(styleAttributes)) {\n",
              "    element.style[key] = styleAttributes[key];\n",
              "  }\n",
              "  return element;\n",
              "}\n",
              "\n",
              "// Max number of bytes which will be uploaded at a time.\n",
              "const MAX_PAYLOAD_SIZE = 100 * 1024;\n",
              "\n",
              "function _uploadFiles(inputId, outputId) {\n",
              "  const steps = uploadFilesStep(inputId, outputId);\n",
              "  const outputElement = document.getElementById(outputId);\n",
              "  // Cache steps on the outputElement to make it available for the next call\n",
              "  // to uploadFilesContinue from Python.\n",
              "  outputElement.steps = steps;\n",
              "\n",
              "  return _uploadFilesContinue(outputId);\n",
              "}\n",
              "\n",
              "// This is roughly an async generator (not supported in the browser yet),\n",
              "// where there are multiple asynchronous steps and the Python side is going\n",
              "// to poll for completion of each step.\n",
              "// This uses a Promise to block the python side on completion of each step,\n",
              "// then passes the result of the previous step as the input to the next step.\n",
              "function _uploadFilesContinue(outputId) {\n",
              "  const outputElement = document.getElementById(outputId);\n",
              "  const steps = outputElement.steps;\n",
              "\n",
              "  const next = steps.next(outputElement.lastPromiseValue);\n",
              "  return Promise.resolve(next.value.promise).then((value) => {\n",
              "    // Cache the last promise value to make it available to the next\n",
              "    // step of the generator.\n",
              "    outputElement.lastPromiseValue = value;\n",
              "    return next.value.response;\n",
              "  });\n",
              "}\n",
              "\n",
              "/**\n",
              " * Generator function which is called between each async step of the upload\n",
              " * process.\n",
              " * @param {string} inputId Element ID of the input file picker element.\n",
              " * @param {string} outputId Element ID of the output display.\n",
              " * @return {!Iterable<!Object>} Iterable of next steps.\n",
              " */\n",
              "function* uploadFilesStep(inputId, outputId) {\n",
              "  const inputElement = document.getElementById(inputId);\n",
              "  inputElement.disabled = false;\n",
              "\n",
              "  const outputElement = document.getElementById(outputId);\n",
              "  outputElement.innerHTML = '';\n",
              "\n",
              "  const pickedPromise = new Promise((resolve) => {\n",
              "    inputElement.addEventListener('change', (e) => {\n",
              "      resolve(e.target.files);\n",
              "    });\n",
              "  });\n",
              "\n",
              "  const cancel = document.createElement('button');\n",
              "  inputElement.parentElement.appendChild(cancel);\n",
              "  cancel.textContent = 'Cancel upload';\n",
              "  const cancelPromise = new Promise((resolve) => {\n",
              "    cancel.onclick = () => {\n",
              "      resolve(null);\n",
              "    };\n",
              "  });\n",
              "\n",
              "  // Wait for the user to pick the files.\n",
              "  const files = yield {\n",
              "    promise: Promise.race([pickedPromise, cancelPromise]),\n",
              "    response: {\n",
              "      action: 'starting',\n",
              "    }\n",
              "  };\n",
              "\n",
              "  cancel.remove();\n",
              "\n",
              "  // Disable the input element since further picks are not allowed.\n",
              "  inputElement.disabled = true;\n",
              "\n",
              "  if (!files) {\n",
              "    return {\n",
              "      response: {\n",
              "        action: 'complete',\n",
              "      }\n",
              "    };\n",
              "  }\n",
              "\n",
              "  for (const file of files) {\n",
              "    const li = document.createElement('li');\n",
              "    li.append(span(file.name, {fontWeight: 'bold'}));\n",
              "    li.append(span(\n",
              "        `(${file.type || 'n/a'}) - ${file.size} bytes, ` +\n",
              "        `last modified: ${\n",
              "            file.lastModifiedDate ? file.lastModifiedDate.toLocaleDateString() :\n",
              "                                    'n/a'} - `));\n",
              "    const percent = span('0% done');\n",
              "    li.appendChild(percent);\n",
              "\n",
              "    outputElement.appendChild(li);\n",
              "\n",
              "    const fileDataPromise = new Promise((resolve) => {\n",
              "      const reader = new FileReader();\n",
              "      reader.onload = (e) => {\n",
              "        resolve(e.target.result);\n",
              "      };\n",
              "      reader.readAsArrayBuffer(file);\n",
              "    });\n",
              "    // Wait for the data to be ready.\n",
              "    let fileData = yield {\n",
              "      promise: fileDataPromise,\n",
              "      response: {\n",
              "        action: 'continue',\n",
              "      }\n",
              "    };\n",
              "\n",
              "    // Use a chunked sending to avoid message size limits. See b/62115660.\n",
              "    let position = 0;\n",
              "    do {\n",
              "      const length = Math.min(fileData.byteLength - position, MAX_PAYLOAD_SIZE);\n",
              "      const chunk = new Uint8Array(fileData, position, length);\n",
              "      position += length;\n",
              "\n",
              "      const base64 = btoa(String.fromCharCode.apply(null, chunk));\n",
              "      yield {\n",
              "        response: {\n",
              "          action: 'append',\n",
              "          file: file.name,\n",
              "          data: base64,\n",
              "        },\n",
              "      };\n",
              "\n",
              "      let percentDone = fileData.byteLength === 0 ?\n",
              "          100 :\n",
              "          Math.round((position / fileData.byteLength) * 100);\n",
              "      percent.textContent = `${percentDone}% done`;\n",
              "\n",
              "    } while (position < fileData.byteLength);\n",
              "  }\n",
              "\n",
              "  // All done.\n",
              "  yield {\n",
              "    response: {\n",
              "      action: 'complete',\n",
              "    }\n",
              "  };\n",
              "}\n",
              "\n",
              "scope.google = scope.google || {};\n",
              "scope.google.colab = scope.google.colab || {};\n",
              "scope.google.colab._files = {\n",
              "  _uploadFiles,\n",
              "  _uploadFilesContinue,\n",
              "};\n",
              "})(self);\n",
              "</script> "
            ]
          },
          "metadata": {}
        },
        {
          "output_type": "stream",
          "name": "stdout",
          "text": [
            "Saving Datos_boya_Tenerife_Sur.csv to Datos_boya_Tenerife_Sur (2).csv\n"
          ]
        }
      ],
      "source": [
        "!pip install pandas\n",
        "from google.colab import files\n",
        "import pandas as pd\n",
        "import io\n",
        "\n",
        "uploaded = files.upload()"
      ]
    },
    {
      "cell_type": "code",
      "source": [
        "# Recogemos el primer archivo cargado\n",
        "filename = list(uploaded.keys())[0]\n",
        "\n",
        "# Leemos el .csv, use the filename as the key to get the file content.\n",
        "df = pd.read_csv(io.BytesIO(uploaded[filename]), sep=';', decimal = ',', encoding='latin-1')\n",
        "\n",
        "# Mostrar las primeras filas del DataFrame\n",
        "print(df.head())\n",
        "# Obtener información sobre las columnas y tipos de datos\n",
        "print(df.info())"
      ],
      "metadata": {
        "colab": {
          "base_uri": "https://localhost:8080/"
        },
        "id": "oHbNT1aUlCjR",
        "outputId": "5bd4df3f-9fed-448f-cc81-46883dd1e80e"
      },
      "execution_count": null,
      "outputs": [
        {
          "output_type": "stream",
          "name": "stdout",
          "text": [
            "     Fecha (GMT)  Altura Signif. del Oleaje(m)  Periodo Medio Tm02(s)  \\\n",
            "0  2000 01 01 00                          1.50                   4.30   \n",
            "1  2000 01 01 01                          1.54                   4.36   \n",
            "2  2000 01 01 02                          1.61                   4.29   \n",
            "3  2000 01 01 03                          1.37                   4.09   \n",
            "4  2000 01 01 04                          1.34                   4.01   \n",
            "\n",
            "   Periodo de Pico(s)  Altura Máxima del Oleaje(m)  \\\n",
            "0                5.56                         2.02   \n",
            "1                5.11                         2.37   \n",
            "2                5.67                         2.32   \n",
            "3                4.92                         2.32   \n",
            "4                4.92                         2.24   \n",
            "\n",
            "   Periodo de la Ola Maxima(s)  Canal de obtencion de los datos   \\\n",
            "0                         6.39                                 1   \n",
            "1                         5.44                                 1   \n",
            "2                         5.45                                 1   \n",
            "3                         5.48                                 1   \n",
            "4                         4.67                                 1   \n",
            "\n",
            "  Direcc. Media de Proced.(0=N,90=E) Direcc. de pico de proced.(0=N,90=E)  \\\n",
            "0                            -9999.9                              -9999.9   \n",
            "1                            -9999.9                              -9999.9   \n",
            "2                            -9999.9                              -9999.9   \n",
            "3                            -9999.9                              -9999.9   \n",
            "4                            -9999.9                              -9999.9   \n",
            "\n",
            "  DispersiÃ³n angular en el pico de energÃ­a espectral(grados)  \\\n",
            "0                                            -9999.9             \n",
            "1                                            -9999.9             \n",
            "2                                            -9999.9             \n",
            "3                                            -9999.9             \n",
            "4                                            -9999.9             \n",
            "\n",
            "  Canal de obtencion de los datos  \n",
            "0                               2  \n",
            "1                               2  \n",
            "2                               2  \n",
            "3                               2  \n",
            "4                               2  \n",
            "<class 'pandas.core.frame.DataFrame'>\n",
            "RangeIndex: 190004 entries, 0 to 190003\n",
            "Data columns (total 11 columns):\n",
            " #   Column                                                        Non-Null Count   Dtype  \n",
            "---  ------                                                        --------------   -----  \n",
            " 0   Fecha (GMT)                                                   190004 non-null  object \n",
            " 1   Altura Signif. del Oleaje(m)                                  190004 non-null  float64\n",
            " 2   Periodo Medio Tm02(s)                                         190004 non-null  float64\n",
            " 3   Periodo de Pico(s)                                            190004 non-null  float64\n",
            " 4   Altura Máxima del Oleaje(m)                                   190004 non-null  float64\n",
            " 5   Periodo de la Ola Maxima(s)                                   190004 non-null  float64\n",
            " 6   Canal de obtencion de los datos                               190004 non-null  int64  \n",
            " 7   Direcc. Media de Proced.(0=N,90=E)                            190004 non-null  object \n",
            " 8   Direcc. de pico de proced.(0=N,90=E)                          190004 non-null  object \n",
            " 9   DispersiÃ³n angular en el pico de energÃ­a espectral(grados)  190004 non-null  object \n",
            " 10  Canal de obtencion de los datos                               190004 non-null  object \n",
            "dtypes: float64(5), int64(1), object(5)\n",
            "memory usage: 15.9+ MB\n",
            "None\n"
          ]
        },
        {
          "output_type": "stream",
          "name": "stderr",
          "text": [
            "<ipython-input-5-fd3a2782b598>:5: DtypeWarning: Columns (10) have mixed types. Specify dtype option on import or set low_memory=False.\n",
            "  df = pd.read_csv(io.BytesIO(uploaded[filename]), sep=';', decimal = ',', encoding='latin-1')\n"
          ]
        }
      ]
    },
    {
      "cell_type": "code",
      "source": [
        "# Antes de hacer el promedio ni nada, quitemos las altura negativas y nulas\n",
        "df = df.dropna(subset = ['Altura Signif. del Oleaje(m)'])\n",
        "df = df[df['Altura Signif. del Oleaje(m)']>= 0]"
      ],
      "metadata": {
        "id": "sBZOOQx0sNoZ"
      },
      "execution_count": null,
      "outputs": []
    },
    {
      "cell_type": "code",
      "source": [
        "# Le quitamos la hora porque lo que queremos hacer es un groupby y ya ta\n",
        "df['Fecha (GMT)'] = pd.to_datetime(df['Fecha (GMT)'])  # Convertimos 'Fecha' en datetime\n",
        "df['Fecha (GMT)'] = df['Fecha (GMT)'].dt.strftime('%Y-%m-%d') # le quito la hora\n",
        "df['Fecha (GMT)'] = pd.to_datetime(df['Fecha (GMT)']) # Convertimos en datetime64[ns]\n",
        "\n",
        "print(df.head())\n",
        "print(df.info())"
      ],
      "metadata": {
        "colab": {
          "base_uri": "https://localhost:8080/"
        },
        "id": "qDj0bn4qn9Qa",
        "outputId": "601a2cf2-20aa-4723-e64e-f213fc41e7a8"
      },
      "execution_count": null,
      "outputs": [
        {
          "output_type": "stream",
          "name": "stdout",
          "text": [
            "  Fecha (GMT)  Altura Signif. del Oleaje(m)  Periodo Medio Tm02(s)  \\\n",
            "0  2000-01-01                          1.50                   4.30   \n",
            "1  2000-01-01                          1.54                   4.36   \n",
            "2  2000-01-01                          1.61                   4.29   \n",
            "3  2000-01-01                          1.37                   4.09   \n",
            "4  2000-01-01                          1.34                   4.01   \n",
            "\n",
            "   Periodo de Pico(s)  Altura Máxima del Oleaje(m)  \\\n",
            "0                5.56                         2.02   \n",
            "1                5.11                         2.37   \n",
            "2                5.67                         2.32   \n",
            "3                4.92                         2.32   \n",
            "4                4.92                         2.24   \n",
            "\n",
            "   Periodo de la Ola Maxima(s)  Canal de obtencion de los datos   \\\n",
            "0                         6.39                                 1   \n",
            "1                         5.44                                 1   \n",
            "2                         5.45                                 1   \n",
            "3                         5.48                                 1   \n",
            "4                         4.67                                 1   \n",
            "\n",
            "  Direcc. Media de Proced.(0=N,90=E) Direcc. de pico de proced.(0=N,90=E)  \\\n",
            "0                            -9999.9                              -9999.9   \n",
            "1                            -9999.9                              -9999.9   \n",
            "2                            -9999.9                              -9999.9   \n",
            "3                            -9999.9                              -9999.9   \n",
            "4                            -9999.9                              -9999.9   \n",
            "\n",
            "  DispersiÃ³n angular en el pico de energÃ­a espectral(grados)  \\\n",
            "0                                            -9999.9             \n",
            "1                                            -9999.9             \n",
            "2                                            -9999.9             \n",
            "3                                            -9999.9             \n",
            "4                                            -9999.9             \n",
            "\n",
            "  Canal de obtencion de los datos  \n",
            "0                               2  \n",
            "1                               2  \n",
            "2                               2  \n",
            "3                               2  \n",
            "4                               2  \n",
            "<class 'pandas.core.frame.DataFrame'>\n",
            "Index: 189989 entries, 0 to 190003\n",
            "Data columns (total 11 columns):\n",
            " #   Column                                                        Non-Null Count   Dtype         \n",
            "---  ------                                                        --------------   -----         \n",
            " 0   Fecha (GMT)                                                   189989 non-null  datetime64[ns]\n",
            " 1   Altura Signif. del Oleaje(m)                                  189989 non-null  float64       \n",
            " 2   Periodo Medio Tm02(s)                                         189989 non-null  float64       \n",
            " 3   Periodo de Pico(s)                                            189989 non-null  float64       \n",
            " 4   Altura Máxima del Oleaje(m)                                   189989 non-null  float64       \n",
            " 5   Periodo de la Ola Maxima(s)                                   189989 non-null  float64       \n",
            " 6   Canal de obtencion de los datos                               189989 non-null  int64         \n",
            " 7   Direcc. Media de Proced.(0=N,90=E)                            189989 non-null  object        \n",
            " 8   Direcc. de pico de proced.(0=N,90=E)                          189989 non-null  object        \n",
            " 9   DispersiÃ³n angular en el pico de energÃ­a espectral(grados)  189989 non-null  object        \n",
            " 10  Canal de obtencion de los datos                               189989 non-null  object        \n",
            "dtypes: datetime64[ns](1), float64(5), int64(1), object(4)\n",
            "memory usage: 17.4+ MB\n",
            "None\n"
          ]
        }
      ]
    },
    {
      "cell_type": "code",
      "source": [
        "mean_daily_height = df.groupby('Fecha (GMT)')['Altura Signif. del Oleaje(m)'].mean().reset_index()\n",
        "print(mean_daily_height)\n",
        "print(mean_daily_height.info)"
      ],
      "metadata": {
        "colab": {
          "base_uri": "https://localhost:8080/"
        },
        "id": "Uw1gF9ajoCZw",
        "outputId": "9932165a-04c0-42bb-9dbf-a83487702fb0"
      },
      "execution_count": null,
      "outputs": [
        {
          "output_type": "stream",
          "name": "stdout",
          "text": [
            "     Fecha (GMT)  Altura Signif. del Oleaje(m)\n",
            "0     2000-01-01                      1.218750\n",
            "1     2000-01-02                      0.987083\n",
            "2     2000-01-03                      1.012083\n",
            "3     2000-01-04                      0.805417\n",
            "4     2000-01-05                      0.549167\n",
            "...          ...                           ...\n",
            "7969  2023-12-27                      0.771250\n",
            "7970  2023-12-28                      0.752083\n",
            "7971  2023-12-29                      0.554167\n",
            "7972  2023-12-30                      0.480000\n",
            "7973  2023-12-31                      0.360000\n",
            "\n",
            "[7974 rows x 2 columns]\n",
            "<bound method DataFrame.info of      Fecha (GMT)  Altura Signif. del Oleaje(m)\n",
            "0     2000-01-01                      1.218750\n",
            "1     2000-01-02                      0.987083\n",
            "2     2000-01-03                      1.012083\n",
            "3     2000-01-04                      0.805417\n",
            "4     2000-01-05                      0.549167\n",
            "...          ...                           ...\n",
            "7969  2023-12-27                      0.771250\n",
            "7970  2023-12-28                      0.752083\n",
            "7971  2023-12-29                      0.554167\n",
            "7972  2023-12-30                      0.480000\n",
            "7973  2023-12-31                      0.360000\n",
            "\n",
            "[7974 rows x 2 columns]>\n"
          ]
        }
      ]
    },
    {
      "cell_type": "code",
      "source": [
        "# Guardemoslo en otro .csv\n",
        "mean_daily_height.to_csv('MeanDaily_Height_2000_2023_TS.csv', index=False, decimal=',')"
      ],
      "metadata": {
        "id": "k5Jj3XLAqQQA"
      },
      "execution_count": null,
      "outputs": []
    },
    {
      "cell_type": "markdown",
      "source": [
        "## Fechas faltantes"
      ],
      "metadata": {
        "id": "BA8C_LJLs-Cv"
      }
    },
    {
      "cell_type": "code",
      "source": [
        "import pandas as pd\n",
        "\n",
        "# Generar la secuencia completa de fechas desde el 2000-01-01 hasta el 2023-12-31\n",
        "full_date_range = pd.date_range(start=\"2000-01-01\", end=\"2023-12-31\")\n",
        "\n",
        "# Convertir la columna de fechas en datetime (si aún no lo está)\n",
        "mean_daily_height['Fecha (GMT)'] = pd.to_datetime(mean_daily_height['Fecha (GMT)'])\n",
        "\n",
        "# Encontrar fechas que faltan comparando con la secuencia completa\n",
        "missing_dates = full_date_range.difference(mean_daily_height['Fecha (GMT)'])\n",
        "\n",
        "# Mostrar las primeras fechas faltantes (si hay muchas)\n",
        "print(\"Fechas faltantes:\", missing_dates)\n",
        "\n",
        "# Guardar las fechas faltantes en un CSV si quieres analizarlas después\n",
        "missing_dates_df = pd.DataFrame(missing_dates, columns=[\"Fechas Faltantes\"])\n",
        "missing_dates_df.to_csv(\"Missing_Dates_2000_2023_TS.csv\", index=False)\n"
      ],
      "metadata": {
        "colab": {
          "base_uri": "https://localhost:8080/"
        },
        "id": "9wbxGWhatAzU",
        "outputId": "8a1c6d75-57dd-4e3b-c7de-6153c5a4cc37"
      },
      "execution_count": null,
      "outputs": [
        {
          "output_type": "stream",
          "name": "stdout",
          "text": [
            "Fechas faltantes: DatetimeIndex(['2000-12-18', '2000-12-19', '2000-12-20', '2000-12-21',\n",
            "               '2000-12-22', '2000-12-23', '2000-12-24', '2000-12-25',\n",
            "               '2000-12-26', '2000-12-27',\n",
            "               ...\n",
            "               '2021-05-10', '2021-05-11', '2023-11-06', '2023-11-07',\n",
            "               '2023-11-08', '2023-11-09', '2023-11-10', '2023-11-11',\n",
            "               '2023-11-12', '2023-11-13'],\n",
            "              dtype='datetime64[ns]', length=792, freq=None)\n"
          ]
        }
      ]
    }
  ]
}