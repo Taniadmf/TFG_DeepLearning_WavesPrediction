{
  "cells": [
    {
      "cell_type": "markdown",
      "metadata": {
        "id": "wG2uNcP5r6S8"
      },
      "source": [
        "# Daily Wave Stats with 4 parameters"
      ]
    },
    {
      "cell_type": "code",
      "execution_count": 35,
      "metadata": {
        "colab": {
          "base_uri": "https://localhost:8080/",
          "height": 189
        },
        "id": "T-v21UW3kaoc",
        "outputId": "b03fe934-5750-4b1b-c197-7e0a99bba185"
      },
      "outputs": [
        {
          "name": "stdout",
          "output_type": "stream",
          "text": [
            "Requirement already satisfied: pandas in /usr/local/lib/python3.11/dist-packages (2.2.2)\n",
            "Requirement already satisfied: numpy>=1.23.2 in /usr/local/lib/python3.11/dist-packages (from pandas) (1.26.4)\n",
            "Requirement already satisfied: python-dateutil>=2.8.2 in /usr/local/lib/python3.11/dist-packages (from pandas) (2.8.2)\n",
            "Requirement already satisfied: pytz>=2020.1 in /usr/local/lib/python3.11/dist-packages (from pandas) (2025.1)\n",
            "Requirement already satisfied: tzdata>=2022.7 in /usr/local/lib/python3.11/dist-packages (from pandas) (2025.1)\n",
            "Requirement already satisfied: six>=1.5 in /usr/local/lib/python3.11/dist-packages (from python-dateutil>=2.8.2->pandas) (1.17.0)\n"
          ]
        },
        {
          "data": {
            "text/html": [
              "\n",
              "     <input type=\"file\" id=\"files-c4fd37a5-f9e2-4e15-a587-3700fb46c7fd\" name=\"files[]\" multiple disabled\n",
              "        style=\"border:none\" />\n",
              "     <output id=\"result-c4fd37a5-f9e2-4e15-a587-3700fb46c7fd\">\n",
              "      Upload widget is only available when the cell has been executed in the\n",
              "      current browser session. Please rerun this cell to enable.\n",
              "      </output>\n",
              "      <script>// Copyright 2017 Google LLC\n",
              "//\n",
              "// Licensed under the Apache License, Version 2.0 (the \"License\");\n",
              "// you may not use this file except in compliance with the License.\n",
              "// You may obtain a copy of the License at\n",
              "//\n",
              "//      http://www.apache.org/licenses/LICENSE-2.0\n",
              "//\n",
              "// Unless required by applicable law or agreed to in writing, software\n",
              "// distributed under the License is distributed on an \"AS IS\" BASIS,\n",
              "// WITHOUT WARRANTIES OR CONDITIONS OF ANY KIND, either express or implied.\n",
              "// See the License for the specific language governing permissions and\n",
              "// limitations under the License.\n",
              "\n",
              "/**\n",
              " * @fileoverview Helpers for google.colab Python module.\n",
              " */\n",
              "(function(scope) {\n",
              "function span(text, styleAttributes = {}) {\n",
              "  const element = document.createElement('span');\n",
              "  element.textContent = text;\n",
              "  for (const key of Object.keys(styleAttributes)) {\n",
              "    element.style[key] = styleAttributes[key];\n",
              "  }\n",
              "  return element;\n",
              "}\n",
              "\n",
              "// Max number of bytes which will be uploaded at a time.\n",
              "const MAX_PAYLOAD_SIZE = 100 * 1024;\n",
              "\n",
              "function _uploadFiles(inputId, outputId) {\n",
              "  const steps = uploadFilesStep(inputId, outputId);\n",
              "  const outputElement = document.getElementById(outputId);\n",
              "  // Cache steps on the outputElement to make it available for the next call\n",
              "  // to uploadFilesContinue from Python.\n",
              "  outputElement.steps = steps;\n",
              "\n",
              "  return _uploadFilesContinue(outputId);\n",
              "}\n",
              "\n",
              "// This is roughly an async generator (not supported in the browser yet),\n",
              "// where there are multiple asynchronous steps and the Python side is going\n",
              "// to poll for completion of each step.\n",
              "// This uses a Promise to block the python side on completion of each step,\n",
              "// then passes the result of the previous step as the input to the next step.\n",
              "function _uploadFilesContinue(outputId) {\n",
              "  const outputElement = document.getElementById(outputId);\n",
              "  const steps = outputElement.steps;\n",
              "\n",
              "  const next = steps.next(outputElement.lastPromiseValue);\n",
              "  return Promise.resolve(next.value.promise).then((value) => {\n",
              "    // Cache the last promise value to make it available to the next\n",
              "    // step of the generator.\n",
              "    outputElement.lastPromiseValue = value;\n",
              "    return next.value.response;\n",
              "  });\n",
              "}\n",
              "\n",
              "/**\n",
              " * Generator function which is called between each async step of the upload\n",
              " * process.\n",
              " * @param {string} inputId Element ID of the input file picker element.\n",
              " * @param {string} outputId Element ID of the output display.\n",
              " * @return {!Iterable<!Object>} Iterable of next steps.\n",
              " */\n",
              "function* uploadFilesStep(inputId, outputId) {\n",
              "  const inputElement = document.getElementById(inputId);\n",
              "  inputElement.disabled = false;\n",
              "\n",
              "  const outputElement = document.getElementById(outputId);\n",
              "  outputElement.innerHTML = '';\n",
              "\n",
              "  const pickedPromise = new Promise((resolve) => {\n",
              "    inputElement.addEventListener('change', (e) => {\n",
              "      resolve(e.target.files);\n",
              "    });\n",
              "  });\n",
              "\n",
              "  const cancel = document.createElement('button');\n",
              "  inputElement.parentElement.appendChild(cancel);\n",
              "  cancel.textContent = 'Cancel upload';\n",
              "  const cancelPromise = new Promise((resolve) => {\n",
              "    cancel.onclick = () => {\n",
              "      resolve(null);\n",
              "    };\n",
              "  });\n",
              "\n",
              "  // Wait for the user to pick the files.\n",
              "  const files = yield {\n",
              "    promise: Promise.race([pickedPromise, cancelPromise]),\n",
              "    response: {\n",
              "      action: 'starting',\n",
              "    }\n",
              "  };\n",
              "\n",
              "  cancel.remove();\n",
              "\n",
              "  // Disable the input element since further picks are not allowed.\n",
              "  inputElement.disabled = true;\n",
              "\n",
              "  if (!files) {\n",
              "    return {\n",
              "      response: {\n",
              "        action: 'complete',\n",
              "      }\n",
              "    };\n",
              "  }\n",
              "\n",
              "  for (const file of files) {\n",
              "    const li = document.createElement('li');\n",
              "    li.append(span(file.name, {fontWeight: 'bold'}));\n",
              "    li.append(span(\n",
              "        `(${file.type || 'n/a'}) - ${file.size} bytes, ` +\n",
              "        `last modified: ${\n",
              "            file.lastModifiedDate ? file.lastModifiedDate.toLocaleDateString() :\n",
              "                                    'n/a'} - `));\n",
              "    const percent = span('0% done');\n",
              "    li.appendChild(percent);\n",
              "\n",
              "    outputElement.appendChild(li);\n",
              "\n",
              "    const fileDataPromise = new Promise((resolve) => {\n",
              "      const reader = new FileReader();\n",
              "      reader.onload = (e) => {\n",
              "        resolve(e.target.result);\n",
              "      };\n",
              "      reader.readAsArrayBuffer(file);\n",
              "    });\n",
              "    // Wait for the data to be ready.\n",
              "    let fileData = yield {\n",
              "      promise: fileDataPromise,\n",
              "      response: {\n",
              "        action: 'continue',\n",
              "      }\n",
              "    };\n",
              "\n",
              "    // Use a chunked sending to avoid message size limits. See b/62115660.\n",
              "    let position = 0;\n",
              "    do {\n",
              "      const length = Math.min(fileData.byteLength - position, MAX_PAYLOAD_SIZE);\n",
              "      const chunk = new Uint8Array(fileData, position, length);\n",
              "      position += length;\n",
              "\n",
              "      const base64 = btoa(String.fromCharCode.apply(null, chunk));\n",
              "      yield {\n",
              "        response: {\n",
              "          action: 'append',\n",
              "          file: file.name,\n",
              "          data: base64,\n",
              "        },\n",
              "      };\n",
              "\n",
              "      let percentDone = fileData.byteLength === 0 ?\n",
              "          100 :\n",
              "          Math.round((position / fileData.byteLength) * 100);\n",
              "      percent.textContent = `${percentDone}% done`;\n",
              "\n",
              "    } while (position < fileData.byteLength);\n",
              "  }\n",
              "\n",
              "  // All done.\n",
              "  yield {\n",
              "    response: {\n",
              "      action: 'complete',\n",
              "    }\n",
              "  };\n",
              "}\n",
              "\n",
              "scope.google = scope.google || {};\n",
              "scope.google.colab = scope.google.colab || {};\n",
              "scope.google.colab._files = {\n",
              "  _uploadFiles,\n",
              "  _uploadFilesContinue,\n",
              "};\n",
              "})(self);\n",
              "</script> "
            ],
            "text/plain": [
              "<IPython.core.display.HTML object>"
            ]
          },
          "metadata": {},
          "output_type": "display_data"
        },
        {
          "name": "stdout",
          "output_type": "stream",
          "text": [
            "Saving Boya_Tenerife_Sur_4parameters.csv.csv to Boya_Tenerife_Sur_4parameters.csv.csv\n"
          ]
        }
      ],
      "source": [
        "!pip install pandas\n",
        "from google.colab import files\n",
        "import pandas as pd\n",
        "import io\n",
        "\n",
        "uploaded = files.upload()"
      ]
    },
    {
      "cell_type": "code",
      "execution_count": null,
      "metadata": {
        "colab": {
          "base_uri": "https://localhost:8080/"
        },
        "id": "oHbNT1aUlCjR",
        "outputId": "555bcf75-5efb-4a29-f16e-28ff470907ee"
      },
      "outputs": [
        {
          "name": "stdout",
          "output_type": "stream",
          "text": [
            "           Fecha  Altura  Periodo de pico  Dir. Media de Procedencia\n",
            "0  2003 05 06 09    1.26             4.64                         90\n",
            "1  2003 05 06 10    1.17             4.53                         88\n",
            "2  2003 05 06 11    1.16             4.99                         88\n",
            "3  2003 05 06 12    1.23             4.87                         89\n",
            "4  2003 05 06 13    1.22            14.26                         87\n",
            "<class 'pandas.core.frame.DataFrame'>\n",
            "RangeIndex: 163887 entries, 0 to 163886\n",
            "Data columns (total 4 columns):\n",
            " #   Column                     Non-Null Count   Dtype  \n",
            "---  ------                     --------------   -----  \n",
            " 0   Fecha                      163887 non-null  object \n",
            " 1   Altura                     163887 non-null  float64\n",
            " 2   Periodo de pico            163887 non-null  float64\n",
            " 3   Dir. Media de Procedencia  163887 non-null  int64  \n",
            "dtypes: float64(2), int64(1), object(1)\n",
            "memory usage: 5.0+ MB\n",
            "None\n"
          ]
        }
      ],
      "source": [
        "# Recogemos el primer archivo cargado\n",
        "filename = list(uploaded.keys())[0]\n",
        "\n",
        "# Leemos el .csv\n",
        "df = pd.read_csv(io.BytesIO(uploaded[filename]), sep=';', decimal=',', encoding='latin-1')\n",
        "\n",
        "# Primeras filas del DataFrame\n",
        "print(df.head())\n",
        "# Obtenemos información sobre las columnas y tipos de datos\n",
        "print(df.info())\n"
      ]
    },
    {
      "cell_type": "markdown",
      "metadata": {
        "id": "80nZhc7PUEF9"
      },
      "source": [
        "Vamos a crear un nuevo .csv del archivo 'Boya_Tenerife_Sur_4parameters' en el que haremos el max, mean y min de cada parámetro (Altura (m), Periodo de Pico (s) y Dir. Media de Procedencia (º)), de manera diaria."
      ]
    },
    {
      "cell_type": "code",
      "execution_count": null,
      "metadata": {
        "colab": {
          "base_uri": "https://localhost:8080/"
        },
        "id": "qDj0bn4qn9Qa",
        "outputId": "7d24ccad-443d-4acb-8a36-e06c6e8628f6"
      },
      "outputs": [
        {
          "name": "stdout",
          "output_type": "stream",
          "text": [
            "       Fecha  Altura  Periodo de pico  Dir. Media de Procedencia\n",
            "0 2003-05-06    1.26             4.64                         90\n",
            "1 2003-05-06    1.17             4.53                         88\n",
            "2 2003-05-06    1.16             4.99                         88\n",
            "3 2003-05-06    1.23             4.87                         89\n",
            "4 2003-05-06    1.22            14.26                         87\n"
          ]
        }
      ],
      "source": [
        "# Le quitamos la hora porque lo que queremos hacer es un groupby y ya ta\n",
        "df['Fecha'] = pd.to_datetime(df['Fecha'])  # Convertimos 'Fecha' en datetime\n",
        "df['Fecha'] = df['Fecha'].dt.strftime('%Y-%m-%d') # Le quito la hora\n",
        "df['Fecha'] = pd.to_datetime(df['Fecha']) # Convertimos en datetime64[ns]\n",
        "\n",
        "print(df.head())"
      ]
    },
    {
      "cell_type": "code",
      "execution_count": null,
      "metadata": {
        "id": "Uw1gF9ajoCZw"
      },
      "outputs": [],
      "source": [
        "# Convertir las columnas numéricas asegurando el formato correcto\n",
        "df[['Altura', 'Periodo de pico', 'Dir. Media de Procedencia']] = df[['Altura', 'Periodo de pico', 'Dir. Media de Procedencia']].apply(pd.to_numeric, errors='coerce')\n",
        "\n",
        "# Antes de hacer el promedio ni nada, quitemos las negativas y nulas\n",
        "df = df.dropna()\n",
        "df = df[df['Altura'] >= 0]\n",
        "df = df[df['Periodo de pico'] >= 0]\n",
        "df = df[df['Dir. Media de Procedencia'] >= 0]\n",
        "\n",
        "# Agrupamos por fecha y calculamos estadísticas\n",
        "df_daily = df.groupby('Fecha').agg({\n",
        "    'Altura': ['max', 'mean', 'min'],\n",
        "    'Periodo de pico': ['max', 'mean', 'min'],\n",
        "    'Dir. Media de Procedencia': ['max', 'mean', 'min']\n",
        "}).reset_index()\n",
        "\n",
        "# Renombramos columnas resultantes\n",
        "df_daily.columns = [\n",
        "    'Fecha', 'hmax (m)', 'hmean (m)', 'hmin (m)',\n",
        "    'Tpico_max (s)', 'Tpico_mean (s)', 'Tpico_min (s)',\n",
        "    'Dir_procedencia_max (º)', 'Dir_procedencia_mean (º)', 'Dir_procedencia_min (º)'\n",
        "]"
      ]
    },
    {
      "cell_type": "code",
      "execution_count": 39,
      "metadata": {
        "colab": {
          "base_uri": "https://localhost:8080/"
        },
        "id": "_7Z6NmCqS5Qm",
        "outputId": "28c7756e-ad70-420f-c2b0-cc95046eeb00"
      },
      "outputs": [
        {
          "name": "stdout",
          "output_type": "stream",
          "text": [
            "       Fecha  hmax (m)  hmean (m)  hmin (m)  Tpico_max (s)  Tpico_mean (s)  \\\n",
            "0 2003-05-06      1.76   1.415333      1.16          14.26        7.235333   \n",
            "1 2003-05-07      1.77   1.502083      1.34           6.65        5.754167   \n",
            "2 2003-05-08      1.68   1.464583      1.21           6.24        5.517917   \n",
            "3 2003-05-09      1.51   1.219167      1.01           5.87        5.013750   \n",
            "4 2003-05-10      1.39   1.142917      0.83          12.48        8.748750   \n",
            "\n",
            "   Tpico_min (s)  Dir_procedencia_max (º)  Dir_procedencia_mean (º)  \\\n",
            "0           4.53                       92                 86.533333   \n",
            "1           5.27                       94                 88.166667   \n",
            "2           4.99                       94                 89.333333   \n",
            "3           3.83                       95                 88.625000   \n",
            "4           4.53                      103                 92.125000   \n",
            "\n",
            "   Dir_procedencia_min (º)  \n",
            "0                       82  \n",
            "1                       83  \n",
            "2                       84  \n",
            "3                       84  \n",
            "4                       83  \n"
          ]
        }
      ],
      "source": [
        "# Guardar el resultado en un CSV\n",
        "df_daily.to_csv('DailyWaveStats_4p_20_23_TS.csv', index=False, sep=';', decimal=',')\n",
        "\n",
        "# Mostrar las primeras filas del DataFrame procesado\n",
        "print(df_daily.head())"
      ]
    },
    {
      "cell_type": "markdown",
      "metadata": {
        "id": "BA8C_LJLs-Cv"
      },
      "source": [
        "## Fechas faltantes"
      ]
    },
    {
      "cell_type": "code",
      "execution_count": null,
      "metadata": {
        "colab": {
          "base_uri": "https://localhost:8080/"
        },
        "id": "9wbxGWhatAzU",
        "outputId": "ed884f35-3d9a-4366-cb4f-2c8e45e96416"
      },
      "outputs": [
        {
          "name": "stdout",
          "output_type": "stream",
          "text": [
            "Fechas faltantes: DatetimeIndex(['2000-01-01', '2000-01-02', '2000-01-03', '2000-01-04',\n",
            "               '2000-01-05', '2000-01-06', '2000-01-07', '2000-01-08',\n",
            "               '2000-01-09', '2000-01-10',\n",
            "               ...\n",
            "               '2021-05-10', '2021-05-11', '2023-11-06', '2023-11-07',\n",
            "               '2023-11-08', '2023-11-09', '2023-11-10', '2023-11-11',\n",
            "               '2023-11-12', '2023-11-13'],\n",
            "              dtype='datetime64[ns]', length=1887, freq=None)\n"
          ]
        }
      ],
      "source": [
        "# Generar la secuencia completa de fechas desde el 2000-01-01 hasta el 2023-12-31\n",
        "full_date_range = pd.date_range(start=\"2000-01-01\", end=\"2023-12-31\")\n",
        "\n",
        "# Convertir la columna de fechas en datetime\n",
        "df_daily['Fecha'] = pd.to_datetime(df_daily['Fecha'])\n",
        "\n",
        "# Encontrar fechas que faltan comparando con la secuencia completa\n",
        "missing_dates = full_date_range.difference(df_daily['Fecha'])\n",
        "\n",
        "# Mostrar las primeras fechas faltantes (si hay muchas)\n",
        "print(\"Fechas faltantes:\", missing_dates)\n",
        "\n",
        "# Guardar las fechas faltantes en un CSV si quieres analizarlas después\n",
        "missing_dates_4p_df = pd.DataFrame(missing_dates, columns=[\"Fechas Faltantes\"])\n",
        "missing_dates_4p_df.to_csv(\"MD_DailyWaveStats_4p_20_23_TS.csv\", index=False)"
      ]
    }
  ],
  "metadata": {
    "colab": {
      "provenance": []
    },
    "kernelspec": {
      "display_name": "Python 3",
      "name": "python3"
    },
    "language_info": {
      "name": "python"
    }
  },
  "nbformat": 4,
  "nbformat_minor": 0
}
