{
 "cells": [
  {
   "cell_type": "markdown",
   "metadata": {},
   "source": [
    "# Filtrado"
   ]
  },
  {
   "cell_type": "code",
   "execution_count": 7,
   "metadata": {},
   "outputs": [],
   "source": [
    "import numpy as np\n",
    "import netCDF4 as nc4\n",
    "from netCDF4 import num2date\n",
    "import pandas as pd\n",
    "from datetime import datetime"
   ]
  },
  {
   "cell_type": "code",
   "execution_count": null,
   "metadata": {},
   "outputs": [
    {
     "name": "stdout",
     "output_type": "stream",
     "text": [
      "Dimensiones de las variables:\n",
      "time: (7974,), lat: (128,), lon: (128,)\n",
      "u10: (7974, 128, 128), v10: (7974, 128, 128)\n",
      "Valores mínimos y máximos de u10: -23.576358795166016, 26.41472053527832\n",
      "Valores mínimos y máximos de v10: -25.095306396484375, 22.78137969970703\n"
     ]
    }
   ],
   "source": [
    "# Ruta del archivo .nc\n",
    "ncFileName = '/disk/barbusano/barbusano1/Projects/Waves/IAwave/Tania_TFG/Datos/Datos_Albano_Modelo/wave_wind_2000_2023_128x128.nc'\n",
    "\n",
    "with nc4.Dataset(ncFileName, mode='r') as ncfid:\n",
    "    # Extraemos variables\n",
    "    time = ncfid.variables['valid_time'][:]\n",
    "    lat = ncfid.variables['latitude'][:]\n",
    "    lon = ncfid.variables['longitude'][:]\n",
    "    u10 = ncfid.variables['u10'][:]\n",
    "    v10 = ncfid.variables['v10'][:]\n",
    "\n",
    "    # Convertimos tiempos a fechas utilizando netCDF4.num2date\n",
    "    time_units = ncfid.variables['valid_time'].units\n",
    "    time_calendar = ncfid.variables['valid_time'].calendar if hasattr(ncfid.variables['valid_time'], 'calendar') else 'standard'\n",
    "\n",
    "    # Convertimos cftime.DatetimeGregorian a datetime.datetime objects\n",
    "    time_dates = num2date(time, units=time_units, calendar=time_calendar)\n",
    "    time_dates_dt = [datetime(date.year, date.month, date.day) for date in time_dates]\n",
    "\n",
    "\n",
    "# Verifiquemos las dimensiones para ver que son las mismas de entrada y de salida, ya que en las CNN\n",
    "# los datos van en pares:\n",
    "print(\"Dimensiones de las variables:\")\n",
    "print(f\"time: {time.shape}, lat: {lat.shape}, lon: {lon.shape}\")\n",
    "print(f\"u10: {u10.shape}, v10: {v10.shape}\")\n",
    "\n",
    "# Veamos porque normalizar esto va a estar curioso\n",
    "print(f\"Valores mínimos y máximos de u10: {np.min(u10)}, {np.max(u10)}\")\n",
    "print(f\"Valores mínimos y máximos de v10: {np.min(v10)}, {np.max(v10)}\")"
   ]
  },
  {
   "cell_type": "code",
   "execution_count": 9,
   "metadata": {},
   "outputs": [
    {
     "name": "stdout",
     "output_type": "stream",
     "text": [
      "  Fechas Faltantes\n",
      "0       2000-01-01\n",
      "1       2000-01-02\n",
      "2       2000-01-03\n",
      "3       2000-01-04\n",
      "4       2000-01-05\n",
      "<class 'pandas.core.frame.DataFrame'>\n",
      "RangeIndex: 1887 entries, 0 to 1886\n",
      "Data columns (total 1 columns):\n",
      " #   Column            Non-Null Count  Dtype \n",
      "---  ------            --------------  ----- \n",
      " 0   Fechas Faltantes  1887 non-null   object\n",
      "dtypes: object(1)\n",
      "memory usage: 14.9+ KB\n",
      "None\n"
     ]
    }
   ],
   "source": [
    "# Ruta del archivo CSV\n",
    "csv_filepath = \"/disk/barbusano/barbusano1/Projects/Waves/IAwave/Tania_TFG/Datos/Boya Tenerife Sur/MD_DailyWaveStats_4p_20_23_TS.csv\"  # Cambia esto a la ruta de tu archivo .csv\n",
    "\n",
    "# Leemos el .csv directamente desde la ruta especificada\n",
    "df = pd.read_csv(csv_filepath, sep=';', decimal=',', encoding='latin-1')\n",
    "\n",
    "# Mostrar las primeras filas del DataFrame\n",
    "print(df.head())\n",
    "\n",
    "# Obtener información sobre las columnas y tipos de datos\n",
    "print(df.info())"
   ]
  },
  {
   "cell_type": "code",
   "execution_count": 10,
   "metadata": {},
   "outputs": [
    {
     "name": "stdout",
     "output_type": "stream",
     "text": [
      "  Fechas Faltantes\n",
      "0       2000-01-01\n",
      "1       2000-01-02\n",
      "2       2000-01-03\n",
      "3       2000-01-04\n",
      "4       2000-01-05\n",
      "<class 'pandas.core.frame.DataFrame'>\n",
      "RangeIndex: 1887 entries, 0 to 1886\n",
      "Data columns (total 1 columns):\n",
      " #   Column            Non-Null Count  Dtype         \n",
      "---  ------            --------------  -----         \n",
      " 0   Fechas Faltantes  1887 non-null   datetime64[ns]\n",
      "dtypes: datetime64[ns](1)\n",
      "memory usage: 14.9 KB\n",
      "None\n"
     ]
    }
   ],
   "source": [
    "df['Fechas Faltantes'] = pd.to_datetime(df['Fechas Faltantes'], errors='coerce')\n",
    "print(df.head())  # Para revisar las primeras filas\n",
    "print(df.info())  # Para verificar el tipo de dato"
   ]
  },
  {
   "cell_type": "code",
   "execution_count": 11,
   "metadata": {},
   "outputs": [],
   "source": [
    "# Convertimos a standard objects y a pd.time\n",
    "time_dates = [datetime(t.year, t.month, t.day, t.hour, t.minute, t.second) for t in time_dates]\n",
    "time_dates = pd.to_datetime(time_dates)\n",
    "\n",
    "# Cargar las fechas que queremos eliminar\n",
    "missing_dates_df = pd.read_csv('/disk/barbusano/barbusano1/Projects/Waves/IAwave/Tania_TFG/Datos/Boya Tenerife Sur/MD_DailyWaveStats_4p_20_23_TS.csv', sep=';', decimal=',', encoding='latin-1')\n",
    "\n",
    "# Nos aseguramos de que el formato de las missing es datetime\n",
    "missing_dates_df['Fechas Faltantes'] = pd.to_datetime(missing_dates_df['Fechas Faltantes'])\n",
    "\n",
    "# Convert the column to DatetimeIndex and update the DataFrame\n",
    "missing_dates = pd.DatetimeIndex(missing_dates_df['Fechas Faltantes']) # Asegurar formato DatetimeIndex\n",
    "\n",
    "# Quitamos las horas porque si no no coincidiran wey\n",
    "time_dates = time_dates.floor('D')\n",
    "missing_dates = missing_dates.floor('D')"
   ]
  },
  {
   "cell_type": "code",
   "execution_count": 12,
   "metadata": {},
   "outputs": [
    {
     "name": "stdout",
     "output_type": "stream",
     "text": [
      "Fechas originales: 7974, Fechas después de filtrar: 6879\n"
     ]
    }
   ],
   "source": [
    "# Creamos una máscara para eliminar solo las fechas contenidas en missing_dates\n",
    "mask = ~time_dates.isin(missing_dates)\n",
    "\n",
    "# Aplicamos la máscara a todas las variables\n",
    "time_filtered = time[mask]\n",
    "u10_filtered = u10[mask]\n",
    "v10_filtered = v10[mask]\n",
    "\n",
    "print(f\"Fechas originales: {len(time)}, Fechas después de filtrar: {len(time_filtered)}\")\n"
   ]
  },
  {
   "cell_type": "code",
   "execution_count": 13,
   "metadata": {},
   "outputs": [
    {
     "name": "stdout",
     "output_type": "stream",
     "text": [
      "Ejemplo de fechas en time_dates: DatetimeIndex(['2000-01-01', '2000-01-02', '2000-01-03', '2000-01-04',\n",
      "               '2000-01-05'],\n",
      "              dtype='datetime64[ns]', freq=None)\n",
      "Ejemplo de fechas en missing_dates: DatetimeIndex(['2000-01-01', '2000-01-02', '2000-01-03', '2000-01-04',\n",
      "               '2000-01-05'],\n",
      "              dtype='datetime64[ns]', name='Fechas Faltantes', freq=None)\n"
     ]
    }
   ],
   "source": [
    "# Ver si tienen el mismo formato\n",
    "print(\"Ejemplo de fechas en time_dates:\", time_dates[:5])\n",
    "print(\"Ejemplo de fechas en missing_dates:\", missing_dates[:5])"
   ]
  },
  {
   "cell_type": "code",
   "execution_count": 14,
   "metadata": {},
   "outputs": [
    {
     "name": "stdout",
     "output_type": "stream",
     "text": [
      "Archivo filtrado guardado en: /disk/barbusano/barbusano1/Projects/Waves/IAwave/Tania_TFG/Datos/Datos_Albano_Modelo/wave_wind_20_23_filtered_3y.nc\n"
     ]
    }
   ],
   "source": [
    "import numpy as np\n",
    "import netCDF4 as nc4\n",
    "import cftime\n",
    "\n",
    "# Ruta del archivo donde se guardará el nuevo .nc\n",
    "nuevo_nc_filename = \"/disk/barbusano/barbusano1/Projects/Waves/IAwave/Tania_TFG/Datos/Datos_Albano_Modelo/wave_wind_20_23_filtered_3y.nc\"\n",
    "\n",
    "# Crear el nuevo archivo .nc\n",
    "with nc4.Dataset(nuevo_nc_filename, \"w\", format=\"NETCDF3_CLASSIC\") as new_nc:\n",
    "    # Crear dimensiones\n",
    "    new_nc.createDimension(\"time\", len(time_filtered))\n",
    "    new_nc.createDimension(\"lat\", len(lat))\n",
    "    new_nc.createDimension(\"lon\", len(lon))\n",
    "\n",
    "    # Crear las variables\n",
    "    times_var = new_nc.createVariable(\"valid_time\", \"f8\", (\"time\",))\n",
    "    lat_var = new_nc.createVariable(\"latitude\", \"f4\", (\"lat\",))\n",
    "    lon_var = new_nc.createVariable(\"longitude\", \"f4\", (\"lon\",))\n",
    "    u10_var = new_nc.createVariable(\"u10\", \"f4\", (\"time\", \"lat\", \"lon\"))\n",
    "    v10_var = new_nc.createVariable(\"v10\", \"f4\", (\"time\", \"lat\", \"lon\"))\n",
    "\n",
    "    # Asignar atributos de tiempo\n",
    "    times_var.units = time_units\n",
    "    times_var.calendar = time_calendar\n",
    "\n",
    "    # Verificar el tipo de time_filtered antes de asignarlo\n",
    "    if isinstance(time_filtered[0], (np.datetime64, cftime.datetime)):\n",
    "        # Si es datetime, convertirlo a número\n",
    "        time_filtered_numeric = nc4.date2num(time_filtered, units=time_units, calendar=time_calendar)\n",
    "    else:\n",
    "        # Si ya es numérico, usarlo directamente\n",
    "        time_filtered_numeric = time_filtered\n",
    "\n",
    "    # Escribir los datos filtrados\n",
    "    times_var[:] = time_filtered_numeric\n",
    "    lat_var[:] = lat  # Las latitudes no cambian\n",
    "    lon_var[:] = lon  # Las longitudes no cambian\n",
    "    u10_var[:] = u10_filtered\n",
    "    v10_var[:] = v10_filtered\n",
    "\n",
    "    # Forzar la escritura a disco\n",
    "    new_nc.sync()\n",
    "\n",
    "print(f\"Archivo filtrado guardado en: {nuevo_nc_filename}\")\n"
   ]
  }
 ],
 "metadata": {
  "kernelspec": {
   "display_name": "IAwave",
   "language": "python",
   "name": "python3"
  },
  "language_info": {
   "codemirror_mode": {
    "name": "ipython",
    "version": 3
   },
   "file_extension": ".py",
   "mimetype": "text/x-python",
   "name": "python",
   "nbconvert_exporter": "python",
   "pygments_lexer": "ipython3",
   "version": "3.9.21"
  }
 },
 "nbformat": 4,
 "nbformat_minor": 2
}
